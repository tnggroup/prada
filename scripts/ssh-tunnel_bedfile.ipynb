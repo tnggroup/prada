{
 "cells": [
  {
   "cell_type": "code",
   "execution_count": 6,
   "id": "c8cfb80c",
   "metadata": {},
   "outputs": [
    {
     "name": "stdout",
     "output_type": "stream",
     "text": [
      "Requirement already satisfied: sshtunnel in c:\\users\\bhakt\\appdata\\local\\programs\\python\\python311\\lib\\site-packages (0.4.0)Note: you may need to restart the kernel to use updated packages.\n",
      "\n",
      "Requirement already satisfied: psycopg2-binary in c:\\users\\bhakt\\appdata\\local\\programs\\python\\python311\\lib\\site-packages (2.9.10)\n",
      "Requirement already satisfied: sqlalchemy in c:\\users\\bhakt\\appdata\\local\\programs\\python\\python311\\lib\\site-packages (2.0.40)\n",
      "Requirement already satisfied: paramiko>=2.7.2 in c:\\users\\bhakt\\appdata\\local\\programs\\python\\python311\\lib\\site-packages (from sshtunnel) (3.5.1)\n",
      "Requirement already satisfied: greenlet>=1 in c:\\users\\bhakt\\appdata\\local\\programs\\python\\python311\\lib\\site-packages (from sqlalchemy) (3.2.1)\n",
      "Requirement already satisfied: typing-extensions>=4.6.0 in c:\\users\\bhakt\\appdata\\local\\programs\\python\\python311\\lib\\site-packages (from sqlalchemy) (4.13.2)\n",
      "Requirement already satisfied: bcrypt>=3.2 in c:\\users\\bhakt\\appdata\\local\\programs\\python\\python311\\lib\\site-packages (from paramiko>=2.7.2->sshtunnel) (4.3.0)\n",
      "Requirement already satisfied: cryptography>=3.3 in c:\\users\\bhakt\\appdata\\local\\programs\\python\\python311\\lib\\site-packages (from paramiko>=2.7.2->sshtunnel) (44.0.3)\n",
      "Requirement already satisfied: pynacl>=1.5 in c:\\users\\bhakt\\appdata\\local\\programs\\python\\python311\\lib\\site-packages (from paramiko>=2.7.2->sshtunnel) (1.5.0)\n",
      "Requirement already satisfied: cffi>=1.12 in c:\\users\\bhakt\\appdata\\local\\programs\\python\\python311\\lib\\site-packages (from cryptography>=3.3->paramiko>=2.7.2->sshtunnel) (1.17.1)\n",
      "Requirement already satisfied: pycparser in c:\\users\\bhakt\\appdata\\local\\programs\\python\\python311\\lib\\site-packages (from cffi>=1.12->cryptography>=3.3->paramiko>=2.7.2->sshtunnel) (2.22)\n"
     ]
    },
    {
     "name": "stderr",
     "output_type": "stream",
     "text": [
      "\n",
      "[notice] A new release of pip is available: 24.3.1 -> 25.1.1\n",
      "[notice] To update, run: python.exe -m pip install --upgrade pip\n"
     ]
    }
   ],
   "source": [
    "%pip install sshtunnel psycopg2-binary sqlalchemy"
   ]
  },
  {
   "cell_type": "code",
   "execution_count": 7,
   "id": "a2660bbb",
   "metadata": {},
   "outputs": [
    {
     "name": "stdout",
     "output_type": "stream",
     "text": [
      "Note: you may need to restart the kernel to use updated packages.\n",
      "Requirement already satisfied: python-dotenv in c:\\users\\bhakt\\appdata\\local\\programs\\python\\python311\\lib\\site-packages (1.1.0)\n"
     ]
    },
    {
     "name": "stderr",
     "output_type": "stream",
     "text": [
      "\n",
      "[notice] A new release of pip is available: 24.3.1 -> 25.1.1\n",
      "[notice] To update, run: python.exe -m pip install --upgrade pip\n"
     ]
    }
   ],
   "source": [
    "%pip install python-dotenv"
   ]
  },
  {
   "cell_type": "code",
   "execution_count": 15,
   "id": "29788988",
   "metadata": {},
   "outputs": [],
   "source": [
    "from sshtunnel import SSHTunnelForwarder\n",
    "import psycopg2\n",
    "import pandas as pd\n",
    "from dotenv import load_dotenv\n",
    "import os\n",
    "from contextlib import closing\n"
   ]
  },
  {
   "cell_type": "code",
   "execution_count": 23,
   "id": "eca163c2",
   "metadata": {},
   "outputs": [],
   "source": [
    "SSH_HOST = os.getenv('SSH_HOST')\n",
    "SSH_PORT = int(os.getenv('SSH_PORT', 22))\n",
    "SSH_USER = os.getenv('SSH_USER')\n",
    "SSH_PASSWORD = os.getenv('SSH_PASSWORD')\n",
    "\n",
    "DB_HOST = os.getenv('DB_HOST')\n",
    "DB_PORT = int(os.getenv('DB_PORT', 5432))\n",
    "DB_NAME = os.getenv('DB_NAME')\n",
    "DB_USER = os.getenv('DB_USER')\n",
    "DB_PASS = os.getenv('DB_PASS')\n"
   ]
  },
  {
   "cell_type": "code",
   "execution_count": 24,
   "id": "8cdbb981",
   "metadata": {},
   "outputs": [
    {
     "data": {
      "text/plain": [
       "False"
      ]
     },
     "execution_count": 24,
     "metadata": {},
     "output_type": "execute_result"
    }
   ],
   "source": [
    "load_dotenv()"
   ]
  },
  {
   "cell_type": "code",
   "execution_count": 25,
   "id": "0e22565c",
   "metadata": {},
   "outputs": [],
   "source": [
    "# # Create the SSH tunnel\n",
    "# with SSHTunnelForwarder(\n",
    "#     (SSH_HOST, SSH_PORT),\n",
    "#     ssh_username=SSH_USER,\n",
    "#     ssh_password=SSH_PASSWORD,\n",
    "#     remote_bind_address=(DB_HOST, DB_PORT)) as tunnel:\n",
    "\n",
    "#     conn = psycopg2.connect(\n",
    "#         host='127.0.0.1',\n",
    "#         port=tunnel.local_bind_port,\n",
    "#         user=DB_USER,\n",
    "#         password=DB_PASS,\n",
    "#         database=DB_NAME)\n"
   ]
  },
  {
   "cell_type": "code",
   "execution_count": 26,
   "id": "2b982253",
   "metadata": {},
   "outputs": [],
   "source": [
    "# PGx gene list\n",
    "\n",
    "# def fetch_prioritised_gene_regions(conn, gene_list):\n",
    "#     query = f\"\"\"\n",
    "#     SELECT chr, bp1, bp2, gene_name\n",
    "#     FROM prada.gencode_gene\n",
    "#     WHERE gene_name IN ({','.join([\"%s\"] * len(gene_list))})\n",
    "#     \"\"\"\n",
    "#     return pd.read_sql(query, conn, params=gene_list)\n"
   ]
  },
  {
   "cell_type": "code",
   "execution_count": null,
   "id": "23816162",
   "metadata": {},
   "outputs": [],
   "source": [
    "OUTPUT_BED = os.getenv(\"OUTPUT_BED\", \"pgx_genes.bed\")\n"
   ]
  },
  {
   "cell_type": "code",
   "execution_count": 28,
   "id": "669f7f7c",
   "metadata": {},
   "outputs": [],
   "source": [
    "SQL = \"\"\"\n",
    "WITH sym_match AS (\n",
    "  SELECT DISTINCT ON (pgx.\"Gene\")\n",
    "         pgx.\"Gene\"                 AS pgx_gene,\n",
    "         g.chr,\n",
    "         g.bp1 - 1                  AS start0,\n",
    "         g.bp2                      AS end1,\n",
    "         g.gene_name,\n",
    "         g.gene_id,\n",
    "         'symbol'::text             AS match_rule\n",
    "  FROM   prada.pgx_gene      pgx\n",
    "  JOIN   prada.gencode_gene  g  ON LOWER(g.gene_name) = LOWER(pgx.\"Gene\")\n",
    "  WHERE  g.chr LIKE 'chr%'\n",
    "  ORDER  BY pgx.\"Gene\", g.bp1\n",
    "), id_match AS (\n",
    "  SELECT DISTINCT ON (pgx.\"Gene\")\n",
    "         pgx.\"Gene\"                 AS pgx_gene,\n",
    "         g.chr,\n",
    "         g.bp1 - 1                  AS start0,\n",
    "         g.bp2                      AS end1,\n",
    "         g.gene_name,\n",
    "         g.gene_id,\n",
    "         'ensembl'::text            AS match_rule\n",
    "  FROM   prada.pgx_gene      pgx\n",
    "  JOIN   cpic.gene           c ON  c.symbol   = pgx.\"Gene\"\n",
    "  JOIN   prada.gencode_gene  g ON  g.gene_id  = c.ensemblid\n",
    "  WHERE  pgx.\"Gene\" NOT IN (SELECT pgx_gene FROM sym_match)\n",
    "    AND  g.chr LIKE 'chr%'\n",
    "  ORDER  BY pgx.\"Gene\", g.bp1\n",
    "), union_matches AS (\n",
    "  SELECT * FROM sym_match\n",
    "  UNION ALL\n",
    "  SELECT * FROM id_match\n",
    ")\n",
    "SELECT\n",
    "      chr,\n",
    "      start0       AS chromStart,\n",
    "      end1         AS chromEnd,\n",
    "      pgx_gene     AS name\n",
    "FROM   union_matches\n",
    "ORDER  BY\n",
    "  CASE\n",
    "      WHEN chr = 'chrX'            THEN 23\n",
    "      WHEN chr = 'chrY'            THEN 24\n",
    "      WHEN chr IN ('chrM','chrMT') THEN 25\n",
    "      WHEN chr ~ '^chr[0-9]+$'     THEN CAST(substr(chr,4) AS INT)\n",
    "      ELSE 99\n",
    "  END,\n",
    "  start0;\n",
    "\"\"\"\n"
   ]
  },
  {
   "cell_type": "code",
   "execution_count": 29,
   "id": "c1292387",
   "metadata": {},
   "outputs": [],
   "source": [
    "def fetch_bed_dataframe() -> pd.DataFrame:\n",
    "    \"\"\"Open SSH tunnel, run the query, return a DataFrame.\"\"\"\n",
    "    with SSHTunnelForwarder(\n",
    "        (SSH_HOST, SSH_PORT),\n",
    "        ssh_username=SSH_USER,\n",
    "        ssh_pkey=SSH_PASSWORD,\n",
    "        remote_bind_address=(DB_HOST, DB_PORT),\n",
    "    ) as tunnel:\n",
    "\n",
    "        local_port = tunnel.local_bind_port\n",
    "        conn_str = f\"dbname={DB_NAME} user={DB_USER} password={DB_PASS} host=127.0.0.1 port={local_port}\"\n",
    "\n",
    "        with closing(psycopg2.connect(conn_str)) as conn, conn.cursor() as cur:\n",
    "            cur.execute(SQL)\n",
    "            rows = cur.fetchall()\n",
    "            cols = [desc[0] for desc in cur.description]\n",
    "\n",
    "    return pd.DataFrame(rows, columns=cols)"
   ]
  },
  {
   "cell_type": "code",
   "execution_count": 31,
   "id": "cc345c53",
   "metadata": {},
   "outputs": [
    {
     "ename": "AssertionError",
     "evalue": "IP is not a string (NoneType)",
     "output_type": "error",
     "traceback": [
      "\u001b[1;31m---------------------------------------------------------------------------\u001b[0m",
      "\u001b[1;31mAssertionError\u001b[0m                            Traceback (most recent call last)",
      "Cell \u001b[1;32mIn[31], line 2\u001b[0m\n\u001b[0;32m      1\u001b[0m \u001b[38;5;28;01mif\u001b[39;00m \u001b[38;5;18m__name__\u001b[39m \u001b[38;5;241m==\u001b[39m \u001b[38;5;124m\"\u001b[39m\u001b[38;5;124m__main__\u001b[39m\u001b[38;5;124m\"\u001b[39m:\n\u001b[1;32m----> 2\u001b[0m     df \u001b[38;5;241m=\u001b[39m \u001b[43mfetch_bed_dataframe\u001b[49m\u001b[43m(\u001b[49m\u001b[43m)\u001b[49m\n\u001b[0;32m      3\u001b[0m     df\u001b[38;5;241m.\u001b[39mto_csv(OUTPUT_BED, sep\u001b[38;5;241m=\u001b[39m\u001b[38;5;124m\"\u001b[39m\u001b[38;5;130;01m\\t\u001b[39;00m\u001b[38;5;124m\"\u001b[39m, header\u001b[38;5;241m=\u001b[39m\u001b[38;5;28;01mFalse\u001b[39;00m, index\u001b[38;5;241m=\u001b[39m\u001b[38;5;28;01mFalse\u001b[39;00m)\n\u001b[0;32m      5\u001b[0m     \u001b[38;5;28mprint\u001b[39m(\u001b[38;5;124mf\u001b[39m\u001b[38;5;124m\"\u001b[39m\u001b[38;5;124mWrote \u001b[39m\u001b[38;5;132;01m{\u001b[39;00m\u001b[38;5;28mlen\u001b[39m(df)\u001b[38;5;132;01m:\u001b[39;00m\u001b[38;5;124m,d\u001b[39m\u001b[38;5;132;01m}\u001b[39;00m\u001b[38;5;124m records to \u001b[39m\u001b[38;5;132;01m{\u001b[39;00mOUTPUT_BED\u001b[38;5;132;01m}\u001b[39;00m\u001b[38;5;124m\"\u001b[39m)\n",
      "Cell \u001b[1;32mIn[29], line 3\u001b[0m, in \u001b[0;36mfetch_bed_dataframe\u001b[1;34m()\u001b[0m\n\u001b[0;32m      1\u001b[0m \u001b[38;5;28;01mdef\u001b[39;00m \u001b[38;5;21mfetch_bed_dataframe\u001b[39m() \u001b[38;5;241m-\u001b[39m\u001b[38;5;241m>\u001b[39m pd\u001b[38;5;241m.\u001b[39mDataFrame:\n\u001b[0;32m      2\u001b[0m \u001b[38;5;250m    \u001b[39m\u001b[38;5;124;03m\"\"\"Open SSH tunnel, run the query, return a DataFrame.\"\"\"\u001b[39;00m\n\u001b[1;32m----> 3\u001b[0m     \u001b[38;5;28;01mwith\u001b[39;00m \u001b[43mSSHTunnelForwarder\u001b[49m\u001b[43m(\u001b[49m\n\u001b[0;32m      4\u001b[0m \u001b[43m        \u001b[49m\u001b[43m(\u001b[49m\u001b[43mSSH_HOST\u001b[49m\u001b[43m,\u001b[49m\u001b[43m \u001b[49m\u001b[43mSSH_PORT\u001b[49m\u001b[43m)\u001b[49m\u001b[43m,\u001b[49m\n\u001b[0;32m      5\u001b[0m \u001b[43m        \u001b[49m\u001b[43mssh_username\u001b[49m\u001b[38;5;241;43m=\u001b[39;49m\u001b[43mSSH_USER\u001b[49m\u001b[43m,\u001b[49m\n\u001b[0;32m      6\u001b[0m \u001b[43m        \u001b[49m\u001b[43mssh_pkey\u001b[49m\u001b[38;5;241;43m=\u001b[39;49m\u001b[43mSSH_PASSWORD\u001b[49m\u001b[43m,\u001b[49m\n\u001b[0;32m      7\u001b[0m \u001b[43m        \u001b[49m\u001b[43mremote_bind_address\u001b[49m\u001b[38;5;241;43m=\u001b[39;49m\u001b[43m(\u001b[49m\u001b[43mDB_HOST\u001b[49m\u001b[43m,\u001b[49m\u001b[43m \u001b[49m\u001b[43mDB_PORT\u001b[49m\u001b[43m)\u001b[49m\u001b[43m,\u001b[49m\n\u001b[0;32m      8\u001b[0m \u001b[43m    \u001b[49m\u001b[43m)\u001b[49m \u001b[38;5;28;01mas\u001b[39;00m tunnel:\n\u001b[0;32m     10\u001b[0m         local_port \u001b[38;5;241m=\u001b[39m tunnel\u001b[38;5;241m.\u001b[39mlocal_bind_port\n\u001b[0;32m     11\u001b[0m         conn_str \u001b[38;5;241m=\u001b[39m \u001b[38;5;124mf\u001b[39m\u001b[38;5;124m\"\u001b[39m\u001b[38;5;124mdbname=\u001b[39m\u001b[38;5;132;01m{\u001b[39;00mDB_NAME\u001b[38;5;132;01m}\u001b[39;00m\u001b[38;5;124m user=\u001b[39m\u001b[38;5;132;01m{\u001b[39;00mDB_USER\u001b[38;5;132;01m}\u001b[39;00m\u001b[38;5;124m password=\u001b[39m\u001b[38;5;132;01m{\u001b[39;00mDB_PASS\u001b[38;5;132;01m}\u001b[39;00m\u001b[38;5;124m host=127.0.0.1 port=\u001b[39m\u001b[38;5;132;01m{\u001b[39;00mlocal_port\u001b[38;5;132;01m}\u001b[39;00m\u001b[38;5;124m\"\u001b[39m\n",
      "File \u001b[1;32mc:\\Users\\Bhakt\\AppData\\Local\\Programs\\Python\\Python311\\Lib\\site-packages\\sshtunnel.py:931\u001b[0m, in \u001b[0;36mSSHTunnelForwarder.__init__\u001b[1;34m(self, ssh_address_or_host, ssh_config_file, ssh_host_key, ssh_password, ssh_pkey, ssh_private_key_password, ssh_proxy, ssh_proxy_enabled, ssh_username, local_bind_address, local_bind_addresses, logger, mute_exceptions, remote_bind_address, remote_bind_addresses, set_keepalive, threaded, compression, allow_agent, host_pkey_directories, *args, **kwargs)\u001b[0m\n\u001b[0;32m    925\u001b[0m \u001b[38;5;28mself\u001b[39m\u001b[38;5;241m.\u001b[39m_raise_fwd_exc \u001b[38;5;241m=\u001b[39m \u001b[38;5;28mself\u001b[39m\u001b[38;5;241m.\u001b[39m_process_deprecated(\n\u001b[0;32m    926\u001b[0m     \u001b[38;5;28;01mNone\u001b[39;00m,\n\u001b[0;32m    927\u001b[0m     \u001b[38;5;124m'\u001b[39m\u001b[38;5;124mraise_exception_if_any_forwarder_have_a_problem\u001b[39m\u001b[38;5;124m'\u001b[39m,\n\u001b[0;32m    928\u001b[0m     kwargs) \u001b[38;5;129;01mor\u001b[39;00m \u001b[38;5;129;01mnot\u001b[39;00m mute_exceptions\n\u001b[0;32m    930\u001b[0m \u001b[38;5;28;01mif\u001b[39;00m \u001b[38;5;28misinstance\u001b[39m(ssh_address_or_host, \u001b[38;5;28mtuple\u001b[39m):\n\u001b[1;32m--> 931\u001b[0m     \u001b[43mcheck_address\u001b[49m\u001b[43m(\u001b[49m\u001b[43mssh_address_or_host\u001b[49m\u001b[43m)\u001b[49m\n\u001b[0;32m    932\u001b[0m     (ssh_host, ssh_port) \u001b[38;5;241m=\u001b[39m ssh_address_or_host\n\u001b[0;32m    933\u001b[0m \u001b[38;5;28;01melse\u001b[39;00m:\n",
      "File \u001b[1;32mc:\\Users\\Bhakt\\AppData\\Local\\Programs\\Python\\Python311\\Lib\\site-packages\\sshtunnel.py:109\u001b[0m, in \u001b[0;36mcheck_address\u001b[1;34m(address)\u001b[0m\n\u001b[0;32m     90\u001b[0m \u001b[38;5;250m\u001b[39m\u001b[38;5;124;03m\"\"\"\u001b[39;00m\n\u001b[0;32m     91\u001b[0m \u001b[38;5;124;03mCheck if the format of the address is correct\u001b[39;00m\n\u001b[0;32m     92\u001b[0m \n\u001b[1;32m   (...)\u001b[0m\n\u001b[0;32m    106\u001b[0m \u001b[38;5;124;03m    >>> check_address(('127.0.0.1', 22))\u001b[39;00m\n\u001b[0;32m    107\u001b[0m \u001b[38;5;124;03m\"\"\"\u001b[39;00m\n\u001b[0;32m    108\u001b[0m \u001b[38;5;28;01mif\u001b[39;00m \u001b[38;5;28misinstance\u001b[39m(address, \u001b[38;5;28mtuple\u001b[39m):\n\u001b[1;32m--> 109\u001b[0m     \u001b[43mcheck_host\u001b[49m\u001b[43m(\u001b[49m\u001b[43maddress\u001b[49m\u001b[43m[\u001b[49m\u001b[38;5;241;43m0\u001b[39;49m\u001b[43m]\u001b[49m\u001b[43m)\u001b[49m\n\u001b[0;32m    110\u001b[0m     check_port(address[\u001b[38;5;241m1\u001b[39m])\n\u001b[0;32m    111\u001b[0m \u001b[38;5;28;01melif\u001b[39;00m \u001b[38;5;28misinstance\u001b[39m(address, string_types):\n",
      "File \u001b[1;32mc:\\Users\\Bhakt\\AppData\\Local\\Programs\\Python\\Python311\\Lib\\site-packages\\sshtunnel.py:79\u001b[0m, in \u001b[0;36mcheck_host\u001b[1;34m(host)\u001b[0m\n\u001b[0;32m     78\u001b[0m \u001b[38;5;28;01mdef\u001b[39;00m \u001b[38;5;21mcheck_host\u001b[39m(host):\n\u001b[1;32m---> 79\u001b[0m     \u001b[38;5;28;01massert\u001b[39;00m \u001b[38;5;28misinstance\u001b[39m(host, string_types), \u001b[38;5;124m'\u001b[39m\u001b[38;5;124mIP is not a string (\u001b[39m\u001b[38;5;132;01m{0}\u001b[39;00m\u001b[38;5;124m)\u001b[39m\u001b[38;5;124m'\u001b[39m\u001b[38;5;241m.\u001b[39mformat(\n\u001b[0;32m     80\u001b[0m         \u001b[38;5;28mtype\u001b[39m(host)\u001b[38;5;241m.\u001b[39m\u001b[38;5;18m__name__\u001b[39m\n\u001b[0;32m     81\u001b[0m     )\n",
      "\u001b[1;31mAssertionError\u001b[0m: IP is not a string (NoneType)"
     ]
    }
   ],
   "source": [
    "if __name__ == \"__main__\":\n",
    "    df = fetch_bed_dataframe()\n",
    "    df.to_csv(OUTPUT_BED, sep=\"\\t\", header=False, index=False)\n",
    "\n",
    "    print(f\"Wrote {len(df):,d} records to {OUTPUT_BED}\")"
   ]
  },
  {
   "cell_type": "code",
   "execution_count": null,
   "id": "906f5d84",
   "metadata": {},
   "outputs": [],
   "source": []
  }
 ],
 "metadata": {
  "kernelspec": {
   "display_name": "Python 3",
   "language": "python",
   "name": "python3"
  },
  "language_info": {
   "codemirror_mode": {
    "name": "ipython",
    "version": 3
   },
   "file_extension": ".py",
   "mimetype": "text/x-python",
   "name": "python",
   "nbconvert_exporter": "python",
   "pygments_lexer": "ipython3",
   "version": "3.11.1"
  }
 },
 "nbformat": 4,
 "nbformat_minor": 5
}
