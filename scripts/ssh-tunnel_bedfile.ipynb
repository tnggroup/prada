{
 "cells": [
  {
   "cell_type": "code",
   "execution_count": 6,
   "id": "c8cfb80c",
   "metadata": {},
   "outputs": [
    {
     "name": "stdout",
     "output_type": "stream",
     "text": [
      "Requirement already satisfied: sshtunnel in c:\\users\\bhakt\\appdata\\local\\programs\\python\\python311\\lib\\site-packages (0.4.0)Note: you may need to restart the kernel to use updated packages.\n",
      "\n",
      "Requirement already satisfied: psycopg2-binary in c:\\users\\bhakt\\appdata\\local\\programs\\python\\python311\\lib\\site-packages (2.9.10)\n",
      "Requirement already satisfied: sqlalchemy in c:\\users\\bhakt\\appdata\\local\\programs\\python\\python311\\lib\\site-packages (2.0.40)\n",
      "Requirement already satisfied: paramiko>=2.7.2 in c:\\users\\bhakt\\appdata\\local\\programs\\python\\python311\\lib\\site-packages (from sshtunnel) (3.5.1)\n",
      "Requirement already satisfied: greenlet>=1 in c:\\users\\bhakt\\appdata\\local\\programs\\python\\python311\\lib\\site-packages (from sqlalchemy) (3.2.1)\n",
      "Requirement already satisfied: typing-extensions>=4.6.0 in c:\\users\\bhakt\\appdata\\local\\programs\\python\\python311\\lib\\site-packages (from sqlalchemy) (4.13.2)\n",
      "Requirement already satisfied: bcrypt>=3.2 in c:\\users\\bhakt\\appdata\\local\\programs\\python\\python311\\lib\\site-packages (from paramiko>=2.7.2->sshtunnel) (4.3.0)\n",
      "Requirement already satisfied: cryptography>=3.3 in c:\\users\\bhakt\\appdata\\local\\programs\\python\\python311\\lib\\site-packages (from paramiko>=2.7.2->sshtunnel) (44.0.3)\n",
      "Requirement already satisfied: pynacl>=1.5 in c:\\users\\bhakt\\appdata\\local\\programs\\python\\python311\\lib\\site-packages (from paramiko>=2.7.2->sshtunnel) (1.5.0)\n",
      "Requirement already satisfied: cffi>=1.12 in c:\\users\\bhakt\\appdata\\local\\programs\\python\\python311\\lib\\site-packages (from cryptography>=3.3->paramiko>=2.7.2->sshtunnel) (1.17.1)\n",
      "Requirement already satisfied: pycparser in c:\\users\\bhakt\\appdata\\local\\programs\\python\\python311\\lib\\site-packages (from cffi>=1.12->cryptography>=3.3->paramiko>=2.7.2->sshtunnel) (2.22)\n"
     ]
    },
    {
     "name": "stderr",
     "output_type": "stream",
     "text": [
      "\n",
      "[notice] A new release of pip is available: 24.3.1 -> 25.1.1\n",
      "[notice] To update, run: python.exe -m pip install --upgrade pip\n"
     ]
    }
   ],
   "source": [
    "%pip install sshtunnel psycopg2-binary sqlalchemy"
   ]
  },
  {
   "cell_type": "code",
   "execution_count": 7,
   "id": "a2660bbb",
   "metadata": {},
   "outputs": [
    {
     "name": "stdout",
     "output_type": "stream",
     "text": [
      "Note: you may need to restart the kernel to use updated packages.\n",
      "Requirement already satisfied: python-dotenv in c:\\users\\bhakt\\appdata\\local\\programs\\python\\python311\\lib\\site-packages (1.1.0)\n"
     ]
    },
    {
     "name": "stderr",
     "output_type": "stream",
     "text": [
      "\n",
      "[notice] A new release of pip is available: 24.3.1 -> 25.1.1\n",
      "[notice] To update, run: python.exe -m pip install --upgrade pip\n"
     ]
    }
   ],
   "source": [
    "%pip install python-dotenv"
   ]
  },
  {
   "cell_type": "code",
   "execution_count": 8,
   "id": "29788988",
   "metadata": {},
   "outputs": [],
   "source": [
    "from sshtunnel import SSHTunnelForwarder\n",
    "import psycopg2\n",
    "import pandas as pd\n",
    "from dotenv import load_dotenv\n",
    "import os"
   ]
  },
  {
   "cell_type": "code",
   "execution_count": 9,
   "id": "3aa3170d",
   "metadata": {},
   "outputs": [
    {
     "data": {
      "text/plain": [
       "True"
      ]
     },
     "execution_count": 9,
     "metadata": {},
     "output_type": "execute_result"
    }
   ],
   "source": [
    "load_dotenv(dotenv_path=\"D:\\BRC-KingsGenomics\\Scripts\\prada-scripts\\login.env\")"
   ]
  },
  {
   "cell_type": "code",
   "execution_count": 10,
   "id": "eca163c2",
   "metadata": {},
   "outputs": [],
   "source": [
    "SSH_HOST = os.getenv('SSH_HOST')\n",
    "SSH_PORT = int(os.getenv('SSH_PORT', 22))\n",
    "SSH_USER = os.getenv('SSH_USER')\n",
    "SSH_PASSWORD = os.getenv('SSH_PASSWORD')\n",
    "\n",
    "DB_HOST = os.getenv('DB_HOST')\n",
    "DB_PORT = int(os.getenv('DB_PORT', 5432))\n",
    "DB_NAME = os.getenv('DB_NAME')\n",
    "DB_USER = os.getenv('DB_USER')\n",
    "DB_PASS = os.getenv('DB_PASS')\n"
   ]
  },
  {
   "cell_type": "code",
   "execution_count": 11,
   "id": "0e22565c",
   "metadata": {},
   "outputs": [],
   "source": [
    "# Create the SSH tunnel\n",
    "with SSHTunnelForwarder(\n",
    "    (SSH_HOST, SSH_PORT),\n",
    "    ssh_username=SSH_USER,\n",
    "    ssh_password=SSH_PASSWORD,\n",
    "    remote_bind_address=(DB_HOST, DB_PORT)) as tunnel:\n",
    "\n",
    "    conn = psycopg2.connect(\n",
    "        host='127.0.0.1',\n",
    "        port=tunnel.local_bind_port,\n",
    "        user=DB_USER,\n",
    "        password=DB_PASS,\n",
    "        database=DB_NAME)\n"
   ]
  },
  {
   "cell_type": "code",
   "execution_count": 12,
   "id": "2b982253",
   "metadata": {},
   "outputs": [],
   "source": [
    "# PGx gene list\n",
    "\n",
    "def fetch_prioritised_gene_regions(conn, gene_list):\n",
    "    query = f\"\"\"\n",
    "    SELECT chr, bp1, bp2, gene_name\n",
    "    FROM prada.gencode_gene\n",
    "    WHERE gene_name IN ({','.join([\"%s\"] * len(gene_list))})\n",
    "    \"\"\"\n",
    "    return pd.read_sql(query, conn, params=gene_list)\n"
   ]
  },
  {
   "cell_type": "code",
   "execution_count": 13,
   "id": "938b79b0",
   "metadata": {},
   "outputs": [
    {
     "data": {
      "text/plain": [
       "(    Gene CPIC PharmGKB  DPWG  Twist  PharmVar  CMRG  PharmCAT\n",
       " 0  ABCB1    C    3 VIP   NaN    1.0       NaN   1.0       NaN\n",
       " 1  ABCC4    D        3   NaN    NaN       NaN   NaN       NaN\n",
       " 2  ABCG2    A       1A   1.0    1.0       NaN   1.0       1.0\n",
       " 3   ABL2    B      NaN   NaN    NaN       NaN   1.0       NaN\n",
       " 4    ACE    D       2A   NaN    NaN       NaN   NaN       NaN,\n",
       " ['Gene', 'CPIC', 'PharmGKB', 'DPWG', 'Twist', 'PharmVar', 'CMRG', 'PharmCAT'])"
      ]
     },
     "execution_count": 13,
     "metadata": {},
     "output_type": "execute_result"
    }
   ],
   "source": [
    "\n",
    "file_path = \"D:\\BRC-KingsGenomics\\PRADA\\PGx Adaptive Sampling Gene List (Draft)(Adaptive).csv\"\n",
    "gene_list_df = pd.read_csv(file_path)\n",
    "\n",
    "\n",
    "gene_list_df.head(), gene_list_df.columns.tolist()"
   ]
  },
  {
   "cell_type": "code",
   "execution_count": 14,
   "id": "9ddbf64a",
   "metadata": {},
   "outputs": [],
   "source": [
    "pgx_genes = gene_list_df['Gene'].dropna().str.upper().unique().tolist()\n",
    "\n",
    "def fetch_gene_regions_for_pgx(conn, gene_list):\n",
    "    sql = f\"\"\"\n",
    "        SELECT chr, bp1 AS start, bp2 AS end, gene_name\n",
    "        FROM prada.gencode_gene\n",
    "        WHERE gene_name IN ({','.join(['%s'] * len(gene_list))})\n",
    "    \"\"\"\n",
    "    return pd.read_sql(sql, conn, params=gene_list)"
   ]
  },
  {
   "cell_type": "code",
   "execution_count": 15,
   "id": "33123d24",
   "metadata": {},
   "outputs": [],
   "source": [
    "def write_bed(df, output_path):\n",
    "    bed = df[['chr', 'start', 'end']].copy()\n",
    "    bed = bed.sort_values(by=['chr', 'start'])\n",
    "    bed.to_csv(output_path, sep=\"\\t\", header=False, index=False)\n",
    "    print(f\"BED file written to {output_path}\")"
   ]
  },
  {
   "cell_type": "code",
   "execution_count": 16,
   "id": "1767da70",
   "metadata": {},
   "outputs": [],
   "source": [
    "\n",
    "def fetch_and_write_bed_via_tunnel(gene_list, output_path):\n",
    "    with SSHTunnelForwarder(\n",
    "        (SSH_HOST, SSH_PORT),\n",
    "        ssh_username=SSH_USER,\n",
    "        ssh_password=SSH_PASSWORD,\n",
    "        remote_bind_address=(DB_HOST, DB_PORT)\n",
    "    ) as tunnel:\n",
    "\n",
    "        with psycopg2.connect(\n",
    "            host=\"127.0.0.1\",\n",
    "            port=tunnel.local_bind_port,\n",
    "            user=DB_USER,\n",
    "            password=DB_PASS,\n",
    "            database=DB_NAME\n",
    "        ) as conn:\n",
    "\n",
    "            sql = f\"\"\"\n",
    "                SELECT chr, bp1 AS start, bp2 AS end, gene_name\n",
    "                FROM prada.gencode_gene\n",
    "                WHERE gene_name IN ({','.join(['%s'] * len(gene_list))})\n",
    "            \"\"\"\n",
    "            df = pd.read_sql(sql, conn, params=gene_list)\n",
    "\n",
    "            # Write BED file\n",
    "            bed = df[['chr', 'start', 'end']].sort_values(by=['chr', 'start'])\n",
    "            bed.to_csv(output_path, sep='\\t', header=False, index=False)\n",
    "            print(f\"BED file written to {output_path}\")\n"
   ]
  },
  {
   "cell_type": "code",
   "execution_count": 18,
   "id": "d63d32f5",
   "metadata": {},
   "outputs": [
    {
     "name": "stdout",
     "output_type": "stream",
     "text": [
      "BED file written to D:\\BRC-KingsGenomics\\PRADA\\pgx_prioritised_genes2.bed\n"
     ]
    }
   ],
   "source": [
    "# Get regions and write to BED\n",
    "    # pgx_regions = fetch_gene_regions_for_pgx(conn, pgx_genes)\n",
    "    # write_bed(pgx_regions, \"pgx_prioritised_genes.bed\")\n",
    "\n",
    "fetch_and_write_bed_via_tunnel(pgx_genes, \"D:\\BRC-KingsGenomics\\PRADA\\pgx_prioritised_genes2.bed\")\n"
   ]
  },
  {
   "cell_type": "code",
   "execution_count": 19,
   "id": "198f6fa7",
   "metadata": {},
   "outputs": [],
   "source": [
    "def calculate_coverage(bed_df):\n",
    "    bed_df = bed_df.sort_values(by=[\"chr\", \"start\"])\n",
    "\n",
    "    total = 0\n",
    "    current_chr = None\n",
    "    current_start = current_end = None\n",
    "\n",
    "    for _, row in bed_df.iterrows():\n",
    "        chr_, start, end = row[\"chr\"], row[\"start\"], row[\"end\"]\n",
    "\n",
    "        if chr_ != current_chr:\n",
    "            if current_chr is not None:\n",
    "                total += current_end - current_start\n",
    "            current_chr, current_start, current_end = chr_, start, end\n",
    "        else:\n",
    "            if start > current_end:\n",
    "                total += current_end - current_start\n",
    "                current_start, current_end = start, end\n",
    "            else:\n",
    "                current_end = max(current_end, end)\n",
    "\n",
    "    if current_chr is not None:\n",
    "        total += current_end - current_start\n",
    "\n",
    "    return total\n"
   ]
  },
  {
   "cell_type": "code",
   "execution_count": 20,
   "id": "91579c11",
   "metadata": {},
   "outputs": [
    {
     "data": {
      "application/vnd.microsoft.datawrangler.viewer.v0+json": {
       "columns": [
        {
         "name": "index",
         "rawType": "int64",
         "type": "integer"
        },
        {
         "name": "chr",
         "rawType": "object",
         "type": "string"
        },
        {
         "name": "start",
         "rawType": "int64",
         "type": "integer"
        },
        {
         "name": "end",
         "rawType": "int64",
         "type": "integer"
        }
       ],
       "conversionMethod": "pd.DataFrame",
       "ref": "afedcb41-2f51-4b8e-830e-1cc83e950e6b",
       "rows": [
        [
         "62",
         "chr1",
         "11785723",
         "11806455"
        ],
        [
         "63",
         "chr1",
         "20589086",
         "20618903"
        ],
        [
         "64",
         "chr1",
         "28812170",
         "28871267"
        ],
        [
         "65",
         "chr1",
         "78303884",
         "78540701"
        ],
        [
         "66",
         "chr1",
         "97077743",
         "97995000"
        ]
       ],
       "shape": {
        "columns": 3,
        "rows": 5
       }
      },
      "text/html": [
       "<div>\n",
       "<style scoped>\n",
       "    .dataframe tbody tr th:only-of-type {\n",
       "        vertical-align: middle;\n",
       "    }\n",
       "\n",
       "    .dataframe tbody tr th {\n",
       "        vertical-align: top;\n",
       "    }\n",
       "\n",
       "    .dataframe thead th {\n",
       "        text-align: right;\n",
       "    }\n",
       "</style>\n",
       "<table border=\"1\" class=\"dataframe\">\n",
       "  <thead>\n",
       "    <tr style=\"text-align: right;\">\n",
       "      <th></th>\n",
       "      <th>chr</th>\n",
       "      <th>start</th>\n",
       "      <th>end</th>\n",
       "    </tr>\n",
       "  </thead>\n",
       "  <tbody>\n",
       "    <tr>\n",
       "      <th>62</th>\n",
       "      <td>chr1</td>\n",
       "      <td>11785723</td>\n",
       "      <td>11806455</td>\n",
       "    </tr>\n",
       "    <tr>\n",
       "      <th>63</th>\n",
       "      <td>chr1</td>\n",
       "      <td>20589086</td>\n",
       "      <td>20618903</td>\n",
       "    </tr>\n",
       "    <tr>\n",
       "      <th>64</th>\n",
       "      <td>chr1</td>\n",
       "      <td>28812170</td>\n",
       "      <td>28871267</td>\n",
       "    </tr>\n",
       "    <tr>\n",
       "      <th>65</th>\n",
       "      <td>chr1</td>\n",
       "      <td>78303884</td>\n",
       "      <td>78540701</td>\n",
       "    </tr>\n",
       "    <tr>\n",
       "      <th>66</th>\n",
       "      <td>chr1</td>\n",
       "      <td>97077743</td>\n",
       "      <td>97995000</td>\n",
       "    </tr>\n",
       "  </tbody>\n",
       "</table>\n",
       "</div>"
      ],
      "text/plain": [
       "     chr     start       end\n",
       "62  chr1  11785723  11806455\n",
       "63  chr1  20589086  20618903\n",
       "64  chr1  28812170  28871267\n",
       "65  chr1  78303884  78540701\n",
       "66  chr1  97077743  97995000"
      ]
     },
     "execution_count": 20,
     "metadata": {},
     "output_type": "execute_result"
    }
   ],
   "source": [
    "bed_path = \"D:\\BRC-KingsGenomics\\PRADA\\pgx_prioritised_genes2.bed\"\n",
    "bed_df = pd.read_csv(bed_path, sep=\"\\t\", header=None, names=[\"chr\", \"start\", \"end\"])\n",
    "\n",
    "# primary chromosomes\n",
    "primary_chromosomes = [f\"chr{i}\" for i in range(1, 23)] + [\"chrX\", \"chrY\"]\n",
    "primary_bed_df = bed_df[bed_df[\"chr\"].isin(primary_chromosomes)].copy()\n",
    "\n",
    "primary_bed_df.head()\n"
   ]
  },
  {
   "cell_type": "code",
   "execution_count": null,
   "id": "90c70c57",
   "metadata": {},
   "outputs": [],
   "source": [
    "# # Add Gene & Update BED\n",
    "# def add_gene_to_backbone(conn, gene_name, padding=1000, source=\"custom\"):\n",
    "    # query = \"\"\"\n",
    "    #     SELECT chr, bp1 - %s AS start, bp2 + %s AS end, gene_name\n",
    "    #     FROM prada.gencode_gene\n",
    "    #     WHERE gene_name = %s\n",
    "    # \"\"\"\n",
    "#     gene_info = pd.read_sql(query, conn, params=[padding, padding, gene_name])\n",
    "    \n",
    "#     if gene_info.empty:\n",
    "#         raise ValueError(f\"Gene '{gene_name}' not found.\")\n",
    "    \n",
    "#     row = gene_info.iloc[0]\n",
    "#     insert_sql = \"\"\"\n",
    "#         INSERT INTO pgx_backbone_genes (gene_name, chr, start, end, source)\n",
    "#         VALUES (%s, %s, %s, %s, %s)\n",
    "#         ON CONFLICT (gene_name) DO NOTHING;\n",
    "#     \"\"\"\n",
    "#     with conn.cursor() as cur:\n",
    "#         cur.execute(insert_sql, (gene_name, row[\"chr\"], row[\"start\"], row[\"end\"], source))\n",
    "#         conn.commit()\n",
    "\n",
    "# # BED Export Function\n",
    "# def export_backbone_bed(conn, output_path):\n",
    "#     df = pd.read_sql(\"SELECT chr, start, end FROM pgx_backbone_genes\", conn)\n",
    "#     df.sort_values(by=[\"chr\", \"start\"]).to_csv(output_path, sep=\"\\t\", header=False, index=False)\n",
    "\n",
    "\n",
    "# # SAM coverage\n",
    "# import pysam\n",
    "\n",
    "# def region_coverage(bam_path, chrom, start, end):\n",
    "#     bam = pysam.AlignmentFile(bam_path, \"rb\")\n",
    "#     coverage = bam.count_coverage(chrom, start, end)\n",
    "#     return sum(map(sum, coverage)) / (end - start)\n"
   ]
  },
  {
   "cell_type": "code",
   "execution_count": null,
   "id": "23816162",
   "metadata": {},
   "outputs": [],
   "source": []
  }
 ],
 "metadata": {
  "kernelspec": {
   "display_name": "Python 3",
   "language": "python",
   "name": "python3"
  },
  "language_info": {
   "codemirror_mode": {
    "name": "ipython",
    "version": 3
   },
   "file_extension": ".py",
   "mimetype": "text/x-python",
   "name": "python",
   "nbconvert_exporter": "python",
   "pygments_lexer": "ipython3",
   "version": "3.11.1"
  }
 },
 "nbformat": 4,
 "nbformat_minor": 5
}
